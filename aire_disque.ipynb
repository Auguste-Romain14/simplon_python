{
 "cells": [
  {
   "cell_type": "code",
   "execution_count": null,
   "id": "48674315",
   "metadata": {},
   "outputs": [],
   "source": [
    "# Ce programme est une fonction qui permet de calculer l'aire d'un disue de rayon R\n",
    "# Il se compose de parties: Une avec unité de mesure et l'autre sans\n",
    "\n",
    "from math import *\n",
    "# La fonction sans unité de mesure\n",
    "def airedisque(R):\n",
    "    return pi * R ** 2\n",
    "\n",
    "# La fonction avec unité de mesure\n",
    "def airedisque2(r, mesure):\n",
    "    res = pi * r ** 2\n",
    "    return str(res) + \" \" + mesure + \"²\""
   ]
  }
 ],
 "metadata": {
  "kernelspec": {
   "display_name": "Python 3 (ipykernel)",
   "language": "python",
   "name": "python3"
  },
  "language_info": {
   "codemirror_mode": {
    "name": "ipython",
    "version": 3
   },
   "file_extension": ".py",
   "mimetype": "text/x-python",
   "name": "python",
   "nbconvert_exporter": "python",
   "pygments_lexer": "ipython3",
   "version": "3.9.12"
  }
 },
 "nbformat": 4,
 "nbformat_minor": 5
}
