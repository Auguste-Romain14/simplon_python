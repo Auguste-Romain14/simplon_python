{
 "cells": [
  {
   "cell_type": "code",
   "execution_count": null,
   "id": "2cbedf74",
   "metadata": {},
   "outputs": [],
   "source": [
    "# ce programme est une fonction qui prend un parametre N et renvoie les nombres impairs entre 0 et N\n",
    "\n",
    "def nb_impairs(N):\n",
    "    liste = []\n",
    "    i = 0\n",
    "    while i <= N:\n",
    "        if not (i % 2 == 0):\n",
    "            liste.append(i)\n",
    "        i += 1\n",
    "\n",
    "    return liste"
   ]
  }
 ],
 "metadata": {
  "kernelspec": {
   "display_name": "Python 3 (ipykernel)",
   "language": "python",
   "name": "python3"
  },
  "language_info": {
   "codemirror_mode": {
    "name": "ipython",
    "version": 3
   },
   "file_extension": ".py",
   "mimetype": "text/x-python",
   "name": "python",
   "nbconvert_exporter": "python",
   "pygments_lexer": "ipython3",
   "version": "3.9.12"
  }
 },
 "nbformat": 4,
 "nbformat_minor": 5
}
