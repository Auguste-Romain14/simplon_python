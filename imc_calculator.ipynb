{
 "cells": [
  {
   "cell_type": "code",
   "execution_count": 2,
   "id": "53c0b56b",
   "metadata": {},
   "outputs": [],
   "source": [
    "# Ce programe est une fonction qui calcule l'indice de masse corporelle (IMC)\n",
    "# Il prend en parametres la taille en cm et la masse en Kg \n",
    "# Il n'est pas pris en compte l'entrée de données invalides\n",
    "\n",
    "\n",
    "def imc_calcultor(taille, masse):\n",
    "    imc = masse / (taille / 100) ** 2\n",
    "    \n",
    "    print(\"Votre taille en Cm : \", taille)\n",
    "    print(\"votre masse en Kg : \", masse)\n",
    "    print(\"IMC = \", round(imc, 2), \"Kg / m²\")\n",
    "\n",
    "    if imc < 18.5:\n",
    "        print(\"Interpretation : Poids insuffisant et pouvant occasionner certains risques pour la santé.\")\n",
    "    elif imc >= 18.5 and imc <= 24.9:\n",
    "        print(\"Interpretation : Poids santé qui n'augmente pas les risques pour la santé\")\n",
    "    elif imc > 24.9 and imc <= 29.9:\n",
    "        print(\"Interpretation : Exces de poids pouvant occasionner certains risques pour la santé.\")\n",
    "    else:\n",
    "        print(\"Obesité, risque accru de developper certaines maladies\")"
   ]
  },
  {
   "cell_type": "code",
   "execution_count": null,
   "id": "ae6036bc",
   "metadata": {},
   "outputs": [],
   "source": []
  }
 ],
 "metadata": {
  "kernelspec": {
   "display_name": "Python 3 (ipykernel)",
   "language": "python",
   "name": "python3"
  },
  "language_info": {
   "codemirror_mode": {
    "name": "ipython",
    "version": 3
   },
   "file_extension": ".py",
   "mimetype": "text/x-python",
   "name": "python",
   "nbconvert_exporter": "python",
   "pygments_lexer": "ipython3",
   "version": "3.9.12"
  }
 },
 "nbformat": 4,
 "nbformat_minor": 5
}
