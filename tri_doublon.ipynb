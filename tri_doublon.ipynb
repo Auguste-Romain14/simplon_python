{
 "cells": [
  {
   "cell_type": "code",
   "execution_count": null,
   "id": "59d0c4bd",
   "metadata": {},
   "outputs": [],
   "source": [
    "# Ce programme est une fonction qui fait le tri de doublon dans une liste\n",
    "\n",
    "initiale = [1, 1, 2, 4, 9, 2, 5, 4]\n",
    "\n",
    "def del_doubl(liste):\n",
    "    tri = []\n",
    "    for i in liste:\n",
    "        if i not in tri:\n",
    "            tri.append(i)\n",
    "    \n",
    "    return tri\n",
    "\n",
    "print(del_doubl(initiale))"
   ]
  }
 ],
 "metadata": {
  "kernelspec": {
   "display_name": "Python 3 (ipykernel)",
   "language": "python",
   "name": "python3"
  },
  "language_info": {
   "codemirror_mode": {
    "name": "ipython",
    "version": 3
   },
   "file_extension": ".py",
   "mimetype": "text/x-python",
   "name": "python",
   "nbconvert_exporter": "python",
   "pygments_lexer": "ipython3",
   "version": "3.9.12"
  }
 },
 "nbformat": 4,
 "nbformat_minor": 5
}
