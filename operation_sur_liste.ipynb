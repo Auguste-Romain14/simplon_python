{
 "cells": [
  {
   "cell_type": "code",
   "execution_count": null,
   "id": "87c76daa",
   "metadata": {},
   "outputs": [],
   "source": [
    "# Ce programme propose quelque operations sur les listes\n",
    "\n",
    "liste = [17, 38, 10, 25, 72]\n",
    "\n",
    "# 1 - Trier et afficher la liste \n",
    "liste.sort()\n",
    "print(liste)\n",
    "\n",
    "# 2 - Ajouter l'element 12 à la liste et afficher celle ci\n",
    "liste.append(12)\n",
    "print(liste)\n",
    "\n",
    "# 3 - Renverser et afficher la liste\n",
    "liste.reverse()\n",
    "print(liste)\n",
    "\n",
    "# 4 - Afficher le nombre d'elements de la liste\n",
    "print(len(liste))\n",
    "\n",
    "# 5 - Supprimer l'element 38 et afficher la liste\n",
    "liste.remove(38)\n",
    "print(liste)\n",
    "\n",
    "# 6 - Afficher la sous-liste du 2e au 3e element\n",
    "print(liste[1:3])\n",
    "\n",
    "# 7 - Afficher la sous-liste du debut au 2e element\n",
    "print(liste[:2])\n",
    "\n",
    "# 8 - Afficher la sous-liste du 3e element à la fin de la liste\n",
    "print(liste[2:])"
   ]
  }
 ],
 "metadata": {
  "kernelspec": {
   "display_name": "Python 3 (ipykernel)",
   "language": "python",
   "name": "python3"
  },
  "language_info": {
   "codemirror_mode": {
    "name": "ipython",
    "version": 3
   },
   "file_extension": ".py",
   "mimetype": "text/x-python",
   "name": "python",
   "nbconvert_exporter": "python",
   "pygments_lexer": "ipython3",
   "version": "3.9.12"
  }
 },
 "nbformat": 4,
 "nbformat_minor": 5
}
