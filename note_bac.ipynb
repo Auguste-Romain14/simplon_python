{
 "cells": [
  {
   "cell_type": "code",
   "execution_count": null,
   "id": "233c98e3",
   "metadata": {},
   "outputs": [],
   "source": [
    "# Ce programme est une fonction qui reçoit la note au bac et affiche la mention\n",
    "\n",
    "def moy_bac(note):\n",
    "    print(\"Note au bac (sur 20) : \", note)\n",
    "\n",
    "    if note >= 0 and note < 10:\n",
    "        print(\"\\t¤ Recalé\")\n",
    "    elif note >= 10 and note < 12:\n",
    "        print(\"\\t¤ Bac avec mention Passable\")\n",
    "    elif note >= 12 and note < 14:\n",
    "        print(\"\\t¤ Bac avec mention Assez-bien\")\n",
    "    elif note >= 14 and note < 16:\n",
    "        print(\"\\t¤ Bac avec mention Bien\")\n",
    "    elif note >= 16 and note <= 20:\n",
    "        print(\"\\t¤ Bac avec mention Tres Bien\")\n",
    "    else:\n",
    "        print(\"Cette note n'est pas prise en compte\")"
   ]
  }
 ],
 "metadata": {
  "kernelspec": {
   "display_name": "Python 3 (ipykernel)",
   "language": "python",
   "name": "python3"
  },
  "language_info": {
   "codemirror_mode": {
    "name": "ipython",
    "version": 3
   },
   "file_extension": ".py",
   "mimetype": "text/x-python",
   "name": "python",
   "nbconvert_exporter": "python",
   "pygments_lexer": "ipython3",
   "version": "3.9.12"
  }
 },
 "nbformat": 4,
 "nbformat_minor": 5
}
