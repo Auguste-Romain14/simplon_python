{
 "cells": [
  {
   "cell_type": "code",
   "execution_count": null,
   "id": "c425d1b4",
   "metadata": {},
   "outputs": [],
   "source": [
    "# Ce programme est une fonction qui retoune la factorielle d'un nombre entier N\n",
    "# Dans le cas de 0 il retourne directement 1\n",
    "# Il n'est pas pris en compte une entrée invalide de l'utilisateur \n",
    "\n",
    "def factorielle(x):\n",
    "    if x == 0:\n",
    "        return 1\n",
    "    else:\n",
    "        res = 1\n",
    "        for i in range(1, x +1):\n",
    "            res *= i\n",
    "        return res"
   ]
  }
 ],
 "metadata": {
  "kernelspec": {
   "display_name": "Python 3 (ipykernel)",
   "language": "python",
   "name": "python3"
  },
  "language_info": {
   "codemirror_mode": {
    "name": "ipython",
    "version": 3
   },
   "file_extension": ".py",
   "mimetype": "text/x-python",
   "name": "python",
   "nbconvert_exporter": "python",
   "pygments_lexer": "ipython3",
   "version": "3.9.12"
  }
 },
 "nbformat": 4,
 "nbformat_minor": 5
}
